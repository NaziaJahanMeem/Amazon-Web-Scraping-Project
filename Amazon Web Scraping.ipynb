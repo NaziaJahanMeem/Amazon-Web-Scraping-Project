{
 "cells": [
  {
   "cell_type": "code",
   "execution_count": 1,
   "metadata": {},
   "outputs": [],
   "source": [
    "from bs4 import BeautifulSoup\n",
    "import requests\n",
    "import smtplib\n",
    "import time\n",
    "import datetime\n",
    "import pandas as pd"
   ]
  },
  {
   "cell_type": "code",
   "execution_count": 2,
   "metadata": {},
   "outputs": [
    {
     "name": "stdout",
     "output_type": "stream",
     "text": [
      "\n",
      "            Newest ASUS VivoBook 15.6\" FHD Touchscreen Laptop | 10th Gen Intel Core i3-1005G1 | 8GB RAM | 128GB PCIe SSD | Fingerprint Reader | Windows 10 Home + Mouse Pad Bundle\n",
      "           \n",
      "\n",
      "                        $399.99\n",
      "                       \n"
     ]
    }
   ],
   "source": [
    "#Connect to Website\n",
    "\n",
    "URL='https://www.amazon.com/ASUS-VivoBook-Touchscreen-i3-1005G1-Fingerprint/dp/B08ZCK1V27/ref=sr_1_1_sspa?crid=X2IKN2QGHNCU&keywords=laptop+7i&qid=1659110149&sprefix=laptop+7i%2Caps%2C444&sr=8-1-spons&psc=1&spLa=ZW5jcnlwdGVkUXVhbGlmaWVyPUEyMU1aWlExT1lUSloyJmVuY3J5cHRlZElkPUEwMTMyOTkzM01ZUTdXRUI4R0tCViZlbmNyeXB0ZWRBZElkPUEwMzgyMjAwMVlZS0kyTFhKQ1hESiZ3aWRnZXROYW1lPXNwX2F0ZiZhY3Rpb249Y2xpY2tSZWRpcmVjdCZkb05vdExvZ0NsaWNrPXRydWU='\n",
    "\n",
    "headers = { \"User-Agent\": \"Mozilla/5.0 (Windows NT 10.0; Win64; x64) AppleWebKit/537.36 (KHTML, like Gecko) Chrome/103.0.0.0 Safari/537.36\",  \"Accept-Encoding\":\"gzip, deflate\", \"Accept\":\"text/html,application/xhtml+xml,application/xml;q=0.9,*/*;q=0.8\", \"DNT\":\"1\",\"Connection\":\"close\", \"Upgrade-Insecure-Requests\":\"1\"}\n",
    "\n",
    "page = requests.get(URL,headers=headers)\n",
    "soup1 = BeautifulSoup(page.content, \"html.parser\")\n",
    "soup2 = BeautifulSoup(soup1.prettify(),\"html.parser\")\n",
    "\n",
    "title  = soup2.find(id = 'productTitle').get_text()\n",
    "price = soup2.find('span',class_='a-offscreen').text\n",
    "\n",
    "print(title)\n",
    "print(price)\n",
    "\n",
    "\n",
    "\n",
    "\n",
    "\n",
    "\n",
    "\n",
    "\n",
    "\n",
    "\n",
    "\n",
    "\n"
   ]
  },
  {
   "cell_type": "code",
   "execution_count": 3,
   "metadata": {},
   "outputs": [
    {
     "name": "stdout",
     "output_type": "stream",
     "text": [
      "Newest ASUS VivoBook 15.6\" FHD Touchscreen Laptop | 10th Gen Intel Core i3-1005G1 | 8GB RAM | 128GB PCIe SSD | Fingerprint Reader | Windows 10 Home + Mouse Pad Bundle\n",
      "399.99\n"
     ]
    }
   ],
   "source": [
    "title=title.strip()\n",
    "price=price.strip()[1:]\n",
    "\n",
    "print(title)\n",
    "print(price)"
   ]
  },
  {
   "cell_type": "code",
   "execution_count": 4,
   "metadata": {},
   "outputs": [
    {
     "name": "stdout",
     "output_type": "stream",
     "text": [
      "2022-07-31\n"
     ]
    }
   ],
   "source": [
    "today=datetime.date.today()\n",
    "print(today)"
   ]
  },
  {
   "cell_type": "code",
   "execution_count": 5,
   "metadata": {},
   "outputs": [],
   "source": [
    "import csv\n",
    "\n",
    "header=['title','price','date']\n",
    "data=[title,price,today]\n",
    "\n",
    "#with open('AmazonWebScrapperDataset.csv','w',newline='',encoding='UTF8') as f:\n",
    "  #  writer=csv.writer(f)\n",
    "   # writer.writerow(header)\n",
    "   # writer.writerow(data)"
   ]
  },
  {
   "cell_type": "code",
   "execution_count": 6,
   "metadata": {},
   "outputs": [
    {
     "name": "stdout",
     "output_type": "stream",
     "text": [
      "                                               title   price        date\n",
      "0  Newest ASUS VivoBook 15.6\" FHD Touchscreen Lap...  399.99  2022-07-31\n"
     ]
    }
   ],
   "source": [
    "df=pd.read_csv(r'C:\\Users\\Asus\\Data Projects\\AmazonWebScrapperDataset.csv')\n",
    "print(df)"
   ]
  },
  {
   "cell_type": "code",
   "execution_count": 7,
   "metadata": {},
   "outputs": [],
   "source": [
    "#Appending Data\n",
    "\n",
    "with open('AmazonWebScrapperDataset.csv','a+',newline='',encoding='UTF8') as f:\n",
    "    writer=csv.writer(f)\n",
    "    writer.writerow(data)"
   ]
  },
  {
   "cell_type": "code",
   "execution_count": 8,
   "metadata": {},
   "outputs": [],
   "source": [
    "def check_price():\n",
    "    URL='https://www.amazon.com/ASUS-VivoBook-Touchscreen-i3-1005G1-Fingerprint/dp/B08ZCK1V27/ref=sr_1_1_sspa?crid=X2IKN2QGHNCU&keywords=laptop+7i&qid=1659110149&sprefix=laptop+7i%2Caps%2C444&sr=8-1-spons&psc=1&spLa=ZW5jcnlwdGVkUXVhbGlmaWVyPUEyMU1aWlExT1lUSloyJmVuY3J5cHRlZElkPUEwMTMyOTkzM01ZUTdXRUI4R0tCViZlbmNyeXB0ZWRBZElkPUEwMzgyMjAwMVlZS0kyTFhKQ1hESiZ3aWRnZXROYW1lPXNwX2F0ZiZhY3Rpb249Y2xpY2tSZWRpcmVjdCZkb05vdExvZ0NsaWNrPXRydWU='\n",
    "\n",
    "    headers = { \"User-Agent\": \"Mozilla/5.0 (Windows NT 10.0; Win64; x64) AppleWebKit/537.36 (KHTML, like Gecko) Chrome/103.0.0.0 Safari/537.36\",  \"Accept-Encoding\":\"gzip, deflate\", \"Accept\":\"text/html,application/xhtml+xml,application/xml;q=0.9,*/*;q=0.8\", \"DNT\":\"1\",\"Connection\":\"close\", \"Upgrade-Insecure-Requests\":\"1\"}\n",
    "\n",
    "    page = requests.get(URL,headers=headers)\n",
    "    soup1 = BeautifulSoup(page.content, \"html.parser\")\n",
    "    soup2 = BeautifulSoup(soup1.prettify(),\"html.parser\")\n",
    "\n",
    "    title  = soup2.find(id = 'productTitle').get_text()\n",
    "    price = soup2.find('span',class_='a-offscreen').text\n",
    "    \n",
    "    title=title.strip()\n",
    "    price=price.strip()[1:]\n",
    "    \n",
    "    today=datetime.date.today()\n",
    "    \n",
    "    header=['title','price','date']\n",
    "    data=[title,price,today]\n",
    "    \n",
    "    with open('AmazonWebScrapperDataset.csv','a+',newline='',encoding='UTF8') as f:\n",
    "        writer=csv.writer(f)\n",
    "        writer.writerow(data)\n",
    "\n"
   ]
  },
  {
   "cell_type": "code",
   "execution_count": null,
   "metadata": {},
   "outputs": [],
   "source": [
    "while(True):\n",
    "    check_price()\n",
    "    time.sleep(86400)"
   ]
  },
  {
   "cell_type": "code",
   "execution_count": 11,
   "metadata": {},
   "outputs": [
    {
     "name": "stdout",
     "output_type": "stream",
     "text": [
      "                                               title   price        date\n",
      "0  Newest ASUS VivoBook 15.6\" FHD Touchscreen Lap...  399.99  2022-07-31\n",
      "1  Newest ASUS VivoBook 15.6\" FHD Touchscreen Lap...  399.99  2022-07-31\n",
      "2  Newest ASUS VivoBook 15.6\" FHD Touchscreen Lap...  399.99  2022-07-31\n"
     ]
    }
   ],
   "source": [
    "df=pd.read_csv(r'C:\\Users\\Asus\\Data Projects\\AmazonWebScrapperDataset.csv')\n",
    "print(df)"
   ]
  },
  {
   "cell_type": "code",
   "execution_count": null,
   "metadata": {},
   "outputs": [],
   "source": []
  }
 ],
 "metadata": {
  "kernelspec": {
   "display_name": "Python 3",
   "language": "python",
   "name": "python3"
  },
  "language_info": {
   "codemirror_mode": {
    "name": "ipython",
    "version": 3
   },
   "file_extension": ".py",
   "mimetype": "text/x-python",
   "name": "python",
   "nbconvert_exporter": "python",
   "pygments_lexer": "ipython3",
   "version": "3.8.5"
  }
 },
 "nbformat": 4,
 "nbformat_minor": 4
}
